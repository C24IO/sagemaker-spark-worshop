{
 "cells": [
  {
   "cell_type": "code",
   "execution_count": 26,
   "metadata": {},
   "outputs": [
    {
     "name": "stdout",
     "output_type": "stream",
     "text": [
      "arn:aws:sagemaker:us-west-2:959874710265:model/spark-regression-model-008\n"
     ]
    }
   ],
   "source": [
    "import boto3\n",
    "\n",
    "sagemaker = boto3.client('sagemaker')\n",
    "\n",
    "model_name='spark-regression-model-008'\n",
    "endpoint_config_name='inference-server-008a-config'\n",
    "endpoint_name='inference-server-008a'\n",
    "\n",
    "## Create SageMaker Model\n",
    "role = 'arn:aws:iam::<account number>:role/sagemaker_role'\n",
    "primary_container = {\n",
    "    'Image': '959874710265.dkr.ecr.us-west-2.amazonaws.com/inference-server:latest',\n",
    "    'ModelDataUrl': 's3://neilawsml2/models/mleap/pipeline-model-1.tgz'\n",
    "}\n",
    "\n",
    "create_model_response = sagemaker.create_model(\n",
    "    ModelName = model_name,\n",
    "    ExecutionRoleArn = role,\n",
    "    PrimaryContainer = primary_container)\n",
    "\n",
    "print(create_model_response['ModelArn'])"
   ]
  },
  {
   "cell_type": "code",
   "execution_count": 27,
   "metadata": {},
   "outputs": [
    {
     "name": "stdout",
     "output_type": "stream",
     "text": [
      "{'EndpointConfigArn': 'arn:aws:sagemaker:us-west-2:959874710265:endpoint-config/inference-server-008a-config', 'ResponseMetadata': {'RequestId': 'd0f4c278-c0c5-4dd3-945f-4951005c4a69', 'HTTPStatusCode': 200, 'HTTPHeaders': {'content-type': 'application/x-amz-json-1.1', 'date': 'Wed, 21 Feb 2018 08:30:12 GMT', 'x-amzn-requestid': 'd0f4c278-c0c5-4dd3-945f-4951005c4a69', 'content-length': '109', 'connection': 'keep-alive'}, 'RetryAttempts': 0}}\n"
     ]
    }
   ],
   "source": [
    "## Create EndPoint Config\n",
    "response = sagemaker.create_endpoint_config(\n",
    "    EndpointConfigName=endpoint_config_name,\n",
    "    ProductionVariants=[\n",
    "        {\n",
    "            'VariantName': 'default-variant-name',\n",
    "            'ModelName': model_name,\n",
    "            'InitialInstanceCount': 1,\n",
    "            'InstanceType': 'ml.m4.xlarge'\n",
    "        },\n",
    "    ])\n",
    "\n",
    "print (response)"
   ]
  },
  {
   "cell_type": "code",
   "execution_count": 28,
   "metadata": {},
   "outputs": [
    {
     "name": "stdout",
     "output_type": "stream",
     "text": [
      "{'EndpointArn': 'arn:aws:sagemaker:us-west-2:959874710265:endpoint/inference-server-008a', 'ResponseMetadata': {'RequestId': '2a2c0071-d6b3-478c-8eb2-403910a2ca32', 'HTTPStatusCode': 200, 'HTTPHeaders': {'content-type': 'application/x-amz-json-1.1', 'date': 'Wed, 21 Feb 2018 08:30:14 GMT', 'x-amzn-requestid': '2a2c0071-d6b3-478c-8eb2-403910a2ca32', 'content-length': '89', 'connection': 'keep-alive'}, 'RetryAttempts': 0}}\n"
     ]
    }
   ],
   "source": [
    "## Create Sagemaker Endpoint\n",
    "response = sagemaker.create_endpoint(\n",
    "    EndpointName=endpoint_name,\n",
    "    EndpointConfigName=endpoint_config_name,\n",
    ")\n",
    "\n",
    "print (response)"
   ]
  },
  {
   "cell_type": "code",
   "execution_count": 25,
   "metadata": {},
   "outputs": [
    {
     "name": "stdout",
     "output_type": "stream",
     "text": [
      "{\n",
      "  \"schema\": {\n",
      "    \"fields\": [\n",
      "      {\n",
      "        \"name\": \"prediction\",\n",
      "        \"type\": {\n",
      "          \"type\": \"basic\",\n",
      "          \"base\": \"double\",\n",
      "          \"isNullable\": false\n",
      "        }\n",
      "      }\n",
      "    ]\n",
      "  },\n",
      "  \"rows\": [\n",
      "    [\n",
      "      10236.175823272792\n",
      "    ]\n",
      "  ]\n",
      "}\n"
     ]
    }
   ],
   "source": [
    "import boto3, io, json\n",
    "\n",
    "client = boto3.client('sagemaker-runtime')\n",
    "\n",
    "input='{\"schema\":{\"fields\":[{\"name\":\"Price\",\"type\":\"double\"},{\"name\":\"Mileage\",\"type\":\"integer\"}, \\\n",
    "{\"name\":\"Make\",\"type\":\"string\"},{\"name\":\"Model\",\"type\":\"string\"},{\"name\":\"Trim\",\"type\":\"string\"}, \\\n",
    "{\"name\":\"Type\",\"type\":\"string\"},{\"name\":\"Cylinder\",\"type\":\"integer\"},{\"name\":\"Liter\",\"type\":\"double\"}, \\\n",
    "{\"name\":\"Doors\",\"type\":\"integer\"},{\"name\":\"Cruise\",\"type\":\"integer\"},{\"name\":\"Sound\",\"type\":\"integer\"}, \\\n",
    "{\"name\":\"Leather\",\"type\":\"integer\"}]}, \\\n",
    "\"rows\":[[9041.9062544231,26191,\"Chevrolet\",\"AVEO\",\"SVM Sedan 4D\",\"Sedan\",4,1.6,4,0,0,1]]}'\n",
    "    \n",
    "response = client.invoke_endpoint(\n",
    "    EndpointName=endpoint_name,\n",
    "    Body=input,\n",
    "    ContentType='application/json',\n",
    "    Accept='application/json'\n",
    ")\n",
    "\n",
    "res_json = json.loads(response['Body'].read().decode(\"utf-8\"))\n",
    "\n",
    "print (json.dumps(res_json, indent=2))"
   ]
  }
 ],
 "metadata": {
  "kernelspec": {
   "display_name": "conda_python3",
   "language": "python",
   "name": "conda_python3"
  },
  "language_info": {
   "codemirror_mode": {
    "name": "ipython",
    "version": 3
   },
   "file_extension": ".py",
   "mimetype": "text/x-python",
   "name": "python",
   "nbconvert_exporter": "python",
   "pygments_lexer": "ipython3",
   "version": "3.6.2"
  }
 },
 "nbformat": 4,
 "nbformat_minor": 2
}
