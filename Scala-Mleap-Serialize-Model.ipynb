{
 "cells": [
  {
   "cell_type": "markdown",
   "metadata": {
    "collapsed": true
   },
   "source": [
    "## To serialize a Spark model to Mleap\n",
    "\n",
    "Run following commands in Sagemaker shell:\n",
    "\n",
    "$> wget https://raw.githubusercontent.com/alexarchambault/jupyter-scala/master/jupyter-scala\n",
    "\n",
    "$> chmod +x jupyter-scala\n",
    "\n",
    "$> ./jupyter-scala"
   ]
  },
  {
   "cell_type": "code",
   "execution_count": 1,
   "metadata": {},
   "outputs": [
    {
     "data": {
      "text/plain": [
       "\u001b[32mimport \u001b[39m\u001b[36m$ivy.$                                    \n",
       "\u001b[39m\n",
       "\u001b[32mimport \u001b[39m\u001b[36m$ivy.$                               \n",
       "\u001b[39m\n",
       "\u001b[32mimport \u001b[39m\u001b[36m$ivy.$                                    \u001b[39m"
      ]
     },
     "execution_count": 1,
     "metadata": {},
     "output_type": "execute_result"
    }
   ],
   "source": [
    "import $ivy.`ml.combust.mleap::mleap-spark:0.9.0`\n",
    "import $ivy.`org.jupyter-scala::spark:0.4.2`\n",
    "import $ivy.`org.apache.spark::spark-mllib:2.2.0`"
   ]
  },
  {
   "cell_type": "code",
   "execution_count": 2,
   "metadata": {},
   "outputs": [
    {
     "data": {
      "text/plain": [
       "\u001b[32mimport \u001b[39m\u001b[36morg.apache.spark.sql.SparkSession\n",
       "\u001b[39m\n",
       "\u001b[32mimport \u001b[39m\u001b[36morg.apache.spark.ml.PipelineModel\n",
       "\u001b[39m\n",
       "\u001b[32mimport \u001b[39m\u001b[36morg.apache.log4j.Logger\n",
       "\u001b[39m\n",
       "\u001b[32mimport \u001b[39m\u001b[36morg.apache.log4j.Level\n",
       "\n",
       "\u001b[39m\n",
       "\u001b[32mimport \u001b[39m\u001b[36mml.combust.bundle.BundleFile\n",
       "\u001b[39m\n",
       "\u001b[32mimport \u001b[39m\u001b[36mml.combust.bundle.serializer.SerializationFormat\n",
       "\u001b[39m\n",
       "\u001b[32mimport \u001b[39m\u001b[36mml.combust.mleap.spark.SparkSupport._\n",
       "\u001b[39m\n",
       "\u001b[32mimport \u001b[39m\u001b[36mresource._\n",
       "\u001b[39m\n",
       "\u001b[32mimport \u001b[39m\u001b[36morg.apache.spark.ml.bundle.SparkBundleContext\u001b[39m"
      ]
     },
     "execution_count": 2,
     "metadata": {},
     "output_type": "execute_result"
    }
   ],
   "source": [
    "import org.apache.spark.sql.SparkSession\n",
    "import org.apache.spark.ml.PipelineModel\n",
    "import org.apache.log4j.Logger\n",
    "import org.apache.log4j.Level\n",
    "\n",
    "import ml.combust.bundle.BundleFile\n",
    "import ml.combust.bundle.serializer.SerializationFormat\n",
    "import ml.combust.mleap.spark.SparkSupport._\n",
    "import resource._\n",
    "import org.apache.spark.ml.bundle.SparkBundleContext"
   ]
  },
  {
   "cell_type": "code",
   "execution_count": 3,
   "metadata": {},
   "outputs": [
    {
     "data": {
      "text/plain": [
       "\u001b[36mspark_model_location\u001b[39m: \u001b[32mString\u001b[39m = \u001b[32m\"/home/ec2-user/models/CarPrices/\"\u001b[39m\n",
       "\u001b[36mmleap_model_location\u001b[39m: \u001b[32mString\u001b[39m = \u001b[32m\"jar:file:/tmp/mleap-examples/pipeline-json1.zip\"\u001b[39m"
      ]
     },
     "execution_count": 3,
     "metadata": {},
     "output_type": "execute_result"
    }
   ],
   "source": [
    "val spark_model_location=\"/home/ec2-user/models/car_price_prediction_model/\"\n",
    "val mleap_model_location=\"jar:file:/tmp/models/pipeline-model.zip\""
   ]
  },
  {
   "cell_type": "code",
   "execution_count": 5,
   "metadata": {},
   "outputs": [
    {
     "data": {
      "text/plain": [
       "\u001b[36mspark\u001b[39m: \u001b[32mSparkSession\u001b[39m = org.apache.spark.sql.SparkSession@3f05fcaa\n",
       "\u001b[36mmodel\u001b[39m: \u001b[32mPipelineModel\u001b[39m = PipelineModel_466fb2decfd19a900f1d\n",
       "\u001b[32mimport \u001b[39m\u001b[36mspark.implicits._\n",
       "\u001b[39m\n",
       "\u001b[36mjsonStr\u001b[39m: \u001b[32mString\u001b[39m = \u001b[32m\"\"\"\n",
       "{\"Price\":9041.9062544231,\"Mileage\":26191,\"Make\":\"Chevrolet\",\"Model\":\"AVEO\",\"Trim\":\"SVM Sedan 4D\",\"Type\":\"Sedan\",\"Cylinder\":4,\"Liter\":1.6,\"Doors\":4,\"Cruise\":0,\"Sound\":0,\"Leather\":1}\n",
       "\"\"\"\u001b[39m\n",
       "\u001b[36mtest\u001b[39m: \u001b[32morg\u001b[39m.\u001b[32mapache\u001b[39m.\u001b[32mspark\u001b[39m.\u001b[32msql\u001b[39m.\u001b[32mpackage\u001b[39m.\u001b[32mDataFrame\u001b[39m = [Cruise: bigint, Cylinder: bigint ... 10 more fields]\n",
       "\u001b[36msbc\u001b[39m: \u001b[32mSparkBundleContext\u001b[39m = \u001b[33mSparkBundleContext\u001b[39m(\n",
       "  \u001b[33mSome\u001b[39m([Cruise: bigint, Cylinder: bigint ... 12 more fields]),\n",
       "  \u001b[33mBundleRegistry\u001b[39m(ammonite.runtime.SpecialClassLoader@1cb19dba)\n",
       ")"
      ]
     },
     "execution_count": 5,
     "metadata": {},
     "output_type": "execute_result"
    }
   ],
   "source": [
    "val spark = SparkSession.builder().master(\"local\").appName(\"JupterSparkApp\").getOrCreate()\n",
    "val model = PipelineModel.load(spark_model_location)\n",
    "import spark.implicits._\n",
    "val jsonStr = \"\"\"{\"Price\":9041.9062544231,\"Mileage\":26191,\"Make\":\"Chevrolet\",\"Model\":\"AVEO\",\"Trim\":\"SVM Sedan 4D\",\"Type\":\"Sedan\",\"Cylinder\":4,\"Liter\":1.6,\"Doors\":4,\"Cruise\":0,\"Sound\":0,\"Leather\":1}\"\"\"\n",
    "val test = spark.read.json(Seq(jsonStr).toDS)\n",
    "val sbc = SparkBundleContext().withDataset(model.transform(test))\n",
    "    for(bf <- managed(BundleFile(mleap_model_location))) {\n",
    "      model.writeBundle.save(bf)(sbc).get\n",
    "    }\n",
    "spark.stop()"
   ]
  }
 ],
 "metadata": {
  "kernelspec": {
   "display_name": "Scala",
   "language": "scala",
   "name": "scala"
  },
  "language_info": {
   "codemirror_mode": "text/x-scala",
   "file_extension": ".scala",
   "mimetype": "text/x-scala",
   "name": "scala211",
   "nbconvert_exporter": "script",
   "pygments_lexer": "scala",
   "version": "2.11.11"
  }
 },
 "nbformat": 4,
 "nbformat_minor": 2
}
